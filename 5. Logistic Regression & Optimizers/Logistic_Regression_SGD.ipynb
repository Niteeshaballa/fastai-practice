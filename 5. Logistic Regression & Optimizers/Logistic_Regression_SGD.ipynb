{
  "nbformat": 4,
  "nbformat_minor": 0,
  "metadata": {
    "colab": {
      "name": "Logistic Regression-SGD.ipynb",
      "provenance": []
    },
    "kernelspec": {
      "name": "python3",
      "display_name": "Python 3"
    },
    "accelerator": "GPU"
  },
  "cells": [
    {
      "cell_type": "code",
      "metadata": {
        "id": "2J0k7Q6asU20",
        "colab_type": "code",
        "colab": {}
      },
      "source": [
        "%matplotlib inline\n",
        "from fastai.basics import *"
      ],
      "execution_count": 0,
      "outputs": []
    },
    {
      "cell_type": "markdown",
      "metadata": {
        "id": "bhQRE-5Dw-vH",
        "colab_type": "text"
      },
      "source": [
        "Download the mnist dataset from the link  http://deeplearning.net/data/mnist/mnist.pkl.gz"
      ]
    },
    {
      "cell_type": "code",
      "metadata": {
        "id": "FM9rAGu2sePw",
        "colab_type": "code",
        "colab": {
          "base_uri": "https://localhost:8080/",
          "height": 34
        },
        "outputId": "c2917793-6cfd-4fe8-c515-bcfc92bc78b7"
      },
      "source": [
        "path = Path('data')\n",
        "dest = path\n",
        "dest.mkdir(parents=True, exist_ok=True)\n",
        "path.ls()"
      ],
      "execution_count": 6,
      "outputs": [
        {
          "output_type": "execute_result",
          "data": {
            "text/plain": [
              "[]"
            ]
          },
          "metadata": {
            "tags": []
          },
          "execution_count": 6
        }
      ]
    },
    {
      "cell_type": "code",
      "metadata": {
        "id": "QcPdfLmvs3F0",
        "colab_type": "code",
        "colab": {}
      },
      "source": [
        "with gzip.open(path/'mnist.pkl.gz', 'rb') as f:\n",
        "    ((x_train, y_train), (x_valid, y_valid), _) = pickle.load(f, encoding='latin-1')"
      ],
      "execution_count": 0,
      "outputs": []
    },
    {
      "cell_type": "code",
      "metadata": {
        "id": "0gq1DDBOs44J",
        "colab_type": "code",
        "colab": {
          "base_uri": "https://localhost:8080/",
          "height": 282
        },
        "outputId": "42e182f3-8ecd-4305-b3d6-fb11a09e564a"
      },
      "source": [
        "plt.imshow(x_train[0].reshape((28,28)), cmap=\"gray\")\n",
        "x_train.shape"
      ],
      "execution_count": 8,
      "outputs": [
        {
          "output_type": "execute_result",
          "data": {
            "text/plain": [
              "(50000, 784)"
            ]
          },
          "metadata": {
            "tags": []
          },
          "execution_count": 8
        },
        {
          "output_type": "display_data",
          "data": {
            "image/png": "[encoded data removed]",
            "text/plain": [
              "<Figure size 432x288 with 1 Axes>"
            ]
          },
          "metadata": {
            "tags": []
          }
        }
      ]
    },
    {
      "cell_type": "code",
      "metadata": {
        "id": "gs_39F9zs6va",
        "colab_type": "code",
        "colab": {
          "base_uri": "https://localhost:8080/",
          "height": 34
        },
        "outputId": "51e69b8c-7817-46cb-cb34-6ec9fc17318d"
      },
      "source": [
        "x_train,y_train,x_valid,y_valid = map(torch.tensor, (x_train,y_train,x_valid,y_valid))\n",
        "n,c = x_train.shape\n",
        "x_train.shape, y_train.min(), y_train.max()"
      ],
      "execution_count": 9,
      "outputs": [
        {
          "output_type": "execute_result",
          "data": {
            "text/plain": [
              "(torch.Size([50000, 784]), tensor(0), tensor(9))"
            ]
          },
          "metadata": {
            "tags": []
          },
          "execution_count": 9
        }
      ]
    },
    {
      "cell_type": "markdown",
      "metadata": {
        "id": "EC_a7YC4tB1-",
        "colab_type": "text"
      },
      "source": [
        "Creating mini-batches"
      ]
    },
    {
      "cell_type": "code",
      "metadata": {
        "id": "4H9-fAbos-rt",
        "colab_type": "code",
        "colab": {}
      },
      "source": [
        "bs=64\n",
        "train_ds = TensorDataset(x_train, y_train)\n",
        "valid_ds = TensorDataset(x_valid, y_valid)\n",
        "data = DataBunch.create(train_ds, valid_ds, bs=bs)"
      ],
      "execution_count": 0,
      "outputs": []
    },
    {
      "cell_type": "code",
      "metadata": {
        "id": "qJFGkPX2s-iE",
        "colab_type": "code",
        "colab": {
          "base_uri": "https://localhost:8080/",
          "height": 34
        },
        "outputId": "59351074-c461-4982-a9e7-427be19ba438"
      },
      "source": [
        "x,y = next(iter(data.train_dl))\n",
        "x.shape,y.shape"
      ],
      "execution_count": 11,
      "outputs": [
        {
          "output_type": "execute_result",
          "data": {
            "text/plain": [
              "(torch.Size([64, 784]), torch.Size([64]))"
            ]
          },
          "metadata": {
            "tags": []
          },
          "execution_count": 11
        }
      ]
    },
    {
      "cell_type": "markdown",
      "metadata": {
        "id": "7WB0kmMhvG9N",
        "colab_type": "text"
      },
      "source": [
        "**Model with no hidden layer - Logistic Regression model**"
      ]
    },
    {
      "cell_type": "code",
      "metadata": {
        "id": "TLIk8B1GtHNo",
        "colab_type": "code",
        "colab": {}
      },
      "source": [
        "class Mnist_Logistic(nn.Module):\n",
        "    def __init__(self):\n",
        "        super().__init__()\n",
        "        self.lin = nn.Linear(784, 10, bias=True)\n",
        "\n",
        "    def forward(self, xb): return self.lin(xb)"
      ],
      "execution_count": 0,
      "outputs": []
    },
    {
      "cell_type": "code",
      "metadata": {
        "id": "SLyalx-ctHKz",
        "colab_type": "code",
        "colab": {
          "base_uri": "https://localhost:8080/",
          "height": 68
        },
        "outputId": "ffb9b635-403e-441c-ce2d-245e3d80d462"
      },
      "source": [
        "model = Mnist_Logistic().cuda()\n",
        "model"
      ],
      "execution_count": 13,
      "outputs": [
        {
          "output_type": "execute_result",
          "data": {
            "text/plain": [
              "Mnist_Logistic(\n",
              "  (lin): Linear(in_features=784, out_features=10, bias=True)\n",
              ")"
            ]
          },
          "metadata": {
            "tags": []
          },
          "execution_count": 13
        }
      ]
    },
    {
      "cell_type": "code",
      "metadata": {
        "id": "9GvntKJNtNOl",
        "colab_type": "code",
        "colab": {
          "base_uri": "https://localhost:8080/",
          "height": 34
        },
        "outputId": "731887c7-1602-49c7-8e86-266f86d63597"
      },
      "source": [
        "model.lin"
      ],
      "execution_count": 14,
      "outputs": [
        {
          "output_type": "execute_result",
          "data": {
            "text/plain": [
              "Linear(in_features=784, out_features=10, bias=True)"
            ]
          },
          "metadata": {
            "tags": []
          },
          "execution_count": 14
        }
      ]
    },
    {
      "cell_type": "code",
      "metadata": {
        "id": "N6RvLdlftNME",
        "colab_type": "code",
        "colab": {
          "base_uri": "https://localhost:8080/",
          "height": 34
        },
        "outputId": "66bd576b-eab7-4763-ab1b-5dbe3ee5fade"
      },
      "source": [
        "model(x).shape"
      ],
      "execution_count": 15,
      "outputs": [
        {
          "output_type": "execute_result",
          "data": {
            "text/plain": [
              "torch.Size([64, 10])"
            ]
          },
          "metadata": {
            "tags": []
          },
          "execution_count": 15
        }
      ]
    },
    {
      "cell_type": "code",
      "metadata": {
        "id": "jgDRpp_ktPNT",
        "colab_type": "code",
        "colab": {
          "base_uri": "https://localhost:8080/",
          "height": 34
        },
        "outputId": "30f0a591-fe82-42d7-b8d7-0f94010ff0b2"
      },
      "source": [
        "[p.shape for p in model.parameters()]"
      ],
      "execution_count": 16,
      "outputs": [
        {
          "output_type": "execute_result",
          "data": {
            "text/plain": [
              "[torch.Size([10, 784]), torch.Size([10])]"
            ]
          },
          "metadata": {
            "tags": []
          },
          "execution_count": 16
        }
      ]
    },
    {
      "cell_type": "code",
      "metadata": {
        "id": "wm8oIIDwtRNL",
        "colab_type": "code",
        "colab": {}
      },
      "source": [
        "lr=2e-2\n",
        "loss_func = nn.CrossEntropyLoss()"
      ],
      "execution_count": 0,
      "outputs": []
    },
    {
      "cell_type": "markdown",
      "metadata": {
        "id": "44GyvM54tg-b",
        "colab_type": "text"
      },
      "source": [
        "updating parameters with \"weight decay\" implemented from scratch"
      ]
    },
    {
      "cell_type": "code",
      "metadata": {
        "id": "OspWjY9utRH7",
        "colab_type": "code",
        "colab": {}
      },
      "source": [
        "def update(x,y,lr):\n",
        "    wd = 1e-5\n",
        "    y_hat = model(x)\n",
        "    # weight decay\n",
        "    w2 = 0.\n",
        "    for p in model.parameters(): w2 += (p**2).sum()\n",
        "    # add to regular loss\n",
        "    loss = loss_func(y_hat, y) + w2*wd\n",
        "    loss.backward()\n",
        "    with torch.no_grad():\n",
        "        for p in model.parameters():\n",
        "            p.sub_(lr * p.grad)\n",
        "            p.grad.zero_()\n",
        "    return loss.item()"
      ],
      "execution_count": 0,
      "outputs": []
    },
    {
      "cell_type": "code",
      "metadata": {
        "id": "vHmgNsTbvQt6",
        "colab_type": "code",
        "colab": {}
      },
      "source": [
        "losses = [update(x,y,lr) for x,y in data.train_dl]"
      ],
      "execution_count": 0,
      "outputs": []
    },
    {
      "cell_type": "code",
      "metadata": {
        "id": "NrMQPKI1vSqi",
        "colab_type": "code",
        "colab": {
          "base_uri": "https://localhost:8080/",
          "height": 265
        },
        "outputId": "b6c6928d-db8a-43d2-b865-f9065c612f4e"
      },
      "source": [
        "plt.plot(losses);"
      ],
      "execution_count": 20,
      "outputs": [
        {
          "output_type": "display_data",
          "data": {
            "image/png": "[encoded data removed]",
            "text/plain": [
              "<Figure size 432x288 with 1 Axes>"
            ]
          },
          "metadata": {
            "tags": []
          }
        }
      ]
    },
    {
      "cell_type": "markdown",
      "metadata": {
        "id": "oGUoWn0EvZgW",
        "colab_type": "text"
      },
      "source": [
        "**Model with 2 layers**"
      ]
    },
    {
      "cell_type": "code",
      "metadata": {
        "id": "oW-nePNMvUrE",
        "colab_type": "code",
        "colab": {}
      },
      "source": [
        "class Mnist_NN(nn.Module):\n",
        "    def __init__(self):\n",
        "        super().__init__()\n",
        "        self.lin1 = nn.Linear(784, 50, bias=True)\n",
        "        self.lin2 = nn.Linear(50, 10, bias=True)\n",
        "\n",
        "    def forward(self, xb):\n",
        "        x = self.lin1(xb)\n",
        "        x = F.relu(x)\n",
        "        return self.lin2(x)"
      ],
      "execution_count": 0,
      "outputs": []
    },
    {
      "cell_type": "markdown",
      "metadata": {
        "id": "qNTtu7xtv4OK",
        "colab_type": "text"
      },
      "source": [
        "**optimizer as SGD + momentum**"
      ]
    },
    {
      "cell_type": "code",
      "metadata": {
        "id": "dX7ThtcHvcZe",
        "colab_type": "code",
        "colab": {}
      },
      "source": [
        "model = Mnist_NN().cuda()"
      ],
      "execution_count": 0,
      "outputs": []
    },
    {
      "cell_type": "code",
      "metadata": {
        "id": "qYuShovpveE3",
        "colab_type": "code",
        "colab": {}
      },
      "source": [
        "losses = [update(x,y,lr) for x,y in data.train_dl]"
      ],
      "execution_count": 0,
      "outputs": []
    },
    {
      "cell_type": "code",
      "metadata": {
        "id": "rsNV9YlRvfgA",
        "colab_type": "code",
        "colab": {
          "base_uri": "https://localhost:8080/",
          "height": 265
        },
        "outputId": "28a4dd5d-e531-442d-d510-5e62eb4ed7fc"
      },
      "source": [
        "plt.plot(losses);"
      ],
      "execution_count": 24,
      "outputs": [
        {
          "output_type": "display_data",
          "data": {
            "image/png": "[encoded data removed]",
            "text/plain": [
              "<Figure size 432x288 with 1 Axes>"
            ]
          },
          "metadata": {
            "tags": []
          }
        }
      ]
    },
    {
      "cell_type": "markdown",
      "metadata": {
        "id": "rAn3H_Vmv9VN",
        "colab_type": "text"
      },
      "source": [
        "**Optimizer as Adam=rmsprop+momentum from pytorch**"
      ]
    },
    {
      "cell_type": "code",
      "metadata": {
        "id": "WbhAtwL8vtHq",
        "colab_type": "code",
        "colab": {}
      },
      "source": [
        "model = Mnist_NN().cuda()"
      ],
      "execution_count": 0,
      "outputs": []
    },
    {
      "cell_type": "code",
      "metadata": {
        "id": "zPRYKlkdvhKh",
        "colab_type": "code",
        "colab": {}
      },
      "source": [
        "def update(x,y,lr):\n",
        "    opt = optim.Adam(model.parameters(), lr)\n",
        "    y_hat = model(x)\n",
        "    loss = loss_func(y_hat, y)\n",
        "    loss.backward()\n",
        "    opt.step()\n",
        "    opt.zero_grad()\n",
        "    return loss.item()"
      ],
      "execution_count": 0,
      "outputs": []
    },
    {
      "cell_type": "code",
      "metadata": {
        "id": "mjA5y2f3vnPS",
        "colab_type": "code",
        "colab": {}
      },
      "source": [
        "losses = [update(x,y,1e-3) for x,y in data.train_dl]"
      ],
      "execution_count": 0,
      "outputs": []
    },
    {
      "cell_type": "code",
      "metadata": {
        "id": "WZ85Xek-vpoz",
        "colab_type": "code",
        "colab": {
          "base_uri": "https://localhost:8080/",
          "height": 265
        },
        "outputId": "51a23bd6-9dc1-4d7c-a552-e8eb3fdef7f9"
      },
      "source": [
        "plt.plot(losses);"
      ],
      "execution_count": 30,
      "outputs": [
        {
          "output_type": "display_data",
          "data": {
            "image/png": "[encoded data removed]",
            "text/plain": [
              "<Figure size 432x288 with 1 Axes>"
            ]
          },
          "metadata": {
            "tags": []
          }
        }
      ]
    },
    {
      "cell_type": "markdown",
      "metadata": {
        "id": "ssXQ7ZZQwSMF",
        "colab_type": "text"
      },
      "source": [
        "**Model with Learner class of fastai**"
      ]
    },
    {
      "cell_type": "code",
      "metadata": {
        "id": "F66JCzb-vxRX",
        "colab_type": "code",
        "colab": {}
      },
      "source": [
        "learn = Learner(data, Mnist_NN(), loss_func=loss_func, metrics=accuracy)"
      ],
      "execution_count": 0,
      "outputs": []
    },
    {
      "cell_type": "code",
      "metadata": {
        "id": "r75XaFWEwD0f",
        "colab_type": "code",
        "colab": {
          "base_uri": "https://localhost:8080/",
          "height": 374
        },
        "outputId": "11378f58-2cff-4847-dff8-a07bf5051898"
      },
      "source": [
        "learn.lr_find()\n",
        "learn.recorder.plot()"
      ],
      "execution_count": 32,
      "outputs": [
        {
          "output_type": "display_data",
          "data": {
            "text/html": [
              "\n",
              "    <div>\n",
              "        <style>\n",
              "            /* Turns off some styling */\n",
              "            progress {\n",
              "                /* gets rid of default border in Firefox and Opera. */\n",
              "                border: none;\n",
              "                /* Needs to be in here for Safari polyfill so background images work as expected. */\n",
              "                background-size: auto;\n",
              "            }\n",
              "            .progress-bar-interrupted, .progress-bar-interrupted::-webkit-progress-bar {\n",
              "                background: #F44336;\n",
              "            }\n",
              "        </style>\n",
              "      <progress value='0' class='' max='1', style='width:300px; height:20px; vertical-align: middle;'></progress>\n",
              "      0.00% [0/1 00:00<00:00]\n",
              "    </div>\n",
              "    \n",
              "<table border=\"1\" class=\"dataframe\">\n",
              "  <thead>\n",
              "    <tr style=\"text-align: left;\">\n",
              "      <th>epoch</th>\n",
              "      <th>train_loss</th>\n",
              "      <th>valid_loss</th>\n",
              "      <th>accuracy</th>\n",
              "      <th>time</th>\n",
              "    </tr>\n",
              "  </thead>\n",
              "  <tbody>\n",
              "  </tbody>\n",
              "</table><p>\n",
              "\n",
              "    <div>\n",
              "        <style>\n",
              "            /* Turns off some styling */\n",
              "            progress {\n",
              "                /* gets rid of default border in Firefox and Opera. */\n",
              "                border: none;\n",
              "                /* Needs to be in here for Safari polyfill so background images work as expected. */\n",
              "                background-size: auto;\n",
              "            }\n",
              "            .progress-bar-interrupted, .progress-bar-interrupted::-webkit-progress-bar {\n",
              "                background: #F44336;\n",
              "            }\n",
              "        </style>\n",
              "      <progress value='71' class='' max='781', style='width:300px; height:20px; vertical-align: middle;'></progress>\n",
              "      9.09% [71/781 00:00<00:04 1.8501]\n",
              "    </div>\n",
              "    "
            ],
            "text/plain": [
              "<IPython.core.display.HTML object>"
            ]
          },
          "metadata": {
            "tags": []
          }
        },
        {
          "output_type": "stream",
          "text": [
            "LR Finder is complete, type {learner_name}.recorder.plot() to see the graph.\n"
          ],
          "name": "stdout"
        },
        {
          "output_type": "display_data",
          "data": {
            "image/png": "[encoded data removed]",
            "text/plain": [
              "<Figure size 432x288 with 1 Axes>"
            ]
          },
          "metadata": {
            "tags": []
          }
        }
      ]
    },
    {
      "cell_type": "markdown",
      "metadata": {
        "id": "uWeCh8s4weoa",
        "colab_type": "text"
      },
      "source": [
        "this method has \"adam\" optimizer by default"
      ]
    },
    {
      "cell_type": "code",
      "metadata": {
        "id": "1t0D-rFuwGYA",
        "colab_type": "code",
        "colab": {
          "base_uri": "https://localhost:8080/",
          "height": 80
        },
        "outputId": "9c0a3a34-05c1-45b6-ca01-4eaafe12e253"
      },
      "source": [
        "learn.fit_one_cycle(1, 1e-2)"
      ],
      "execution_count": 33,
      "outputs": [
        {
          "output_type": "display_data",
          "data": {
            "text/html": [
              "<table border=\"1\" class=\"dataframe\">\n",
              "  <thead>\n",
              "    <tr style=\"text-align: left;\">\n",
              "      <th>epoch</th>\n",
              "      <th>train_loss</th>\n",
              "      <th>valid_loss</th>\n",
              "      <th>accuracy</th>\n",
              "      <th>time</th>\n",
              "    </tr>\n",
              "  </thead>\n",
              "  <tbody>\n",
              "    <tr>\n",
              "      <td>0</td>\n",
              "      <td>0.141095</td>\n",
              "      <td>0.136541</td>\n",
              "      <td>0.961000</td>\n",
              "      <td>00:04</td>\n",
              "    </tr>\n",
              "  </tbody>\n",
              "</table>"
            ],
            "text/plain": [
              "<IPython.core.display.HTML object>"
            ]
          },
          "metadata": {
            "tags": []
          }
        }
      ]
    },
    {
      "cell_type": "markdown",
      "metadata": {
        "id": "FFpwSBSewo-_",
        "colab_type": "text"
      },
      "source": [
        "learning rate is inversely proportional to momentum"
      ]
    },
    {
      "cell_type": "code",
      "metadata": {
        "id": "FjRM-VwswI35",
        "colab_type": "code",
        "colab": {
          "base_uri": "https://localhost:8080/",
          "height": 279
        },
        "outputId": "af5f54db-a84b-4d24-b57c-dde5773742b0"
      },
      "source": [
        "learn.recorder.plot_lr(show_moms=True)"
      ],
      "execution_count": 34,
      "outputs": [
        {
          "output_type": "display_data",
          "data": {
            "image/png": "[encoded data removed]",
            "text/plain": [
              "<Figure size 864x288 with 2 Axes>"
            ]
          },
          "metadata": {
            "tags": []
          }
        }
      ]
    },
    {
      "cell_type": "code",
      "metadata": {
        "id": "IM3OJ9xiwK3C",
        "colab_type": "code",
        "colab": {
          "base_uri": "https://localhost:8080/",
          "height": 279
        },
        "outputId": "bf91fc1a-8c78-495a-9660-2e3c946733cd"
      },
      "source": [
        "learn.recorder.plot_losses()"
      ],
      "execution_count": 35,
      "outputs": [
        {
          "output_type": "display_data",
          "data": {
            "image/png": "[encoded data removed]",
            "text/plain": [
              "<Figure size 432x288 with 1 Axes>"
            ]
          },
          "metadata": {
            "tags": []
          }
        }
      ]
    }
  ]
}